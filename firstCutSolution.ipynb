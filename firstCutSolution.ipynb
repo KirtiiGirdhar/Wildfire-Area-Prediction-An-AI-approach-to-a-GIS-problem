{
  "nbformat": 4,
  "nbformat_minor": 0,
  "metadata": {
    "colab": {
      "name": "firstCutSolution.ipynb",
      "provenance": []
    },
    "kernelspec": {
      "name": "python3",
      "display_name": "Python 3"
    }
  },
  "cells": [
    {
      "cell_type": "code",
      "metadata": {
        "id": "sZZVMv7sjont",
        "outputId": "bc6d726f-34c0-4378-d7d9-c679a316a47c",
        "colab": {
          "base_uri": "https://localhost:8080/"
        }
      },
      "source": [
        "from google.colab import drive\n",
        "drive.mount('/content/drive')"
      ],
      "execution_count": 1,
      "outputs": [
        {
          "output_type": "stream",
          "text": [
            "Mounted at /content/drive\n"
          ],
          "name": "stdout"
        }
      ]
    },
    {
      "cell_type": "code",
      "metadata": {
        "id": "2H3JHy_4jymp",
        "outputId": "7eb3525c-ff24-48f2-e086-8c4e0a8c6657",
        "colab": {
          "base_uri": "https://localhost:8080/"
        }
      },
      "source": [
        "import sqlite3\n",
        "import numpy as np\n",
        "import pandas as pd\n",
        "import seaborn as sns\n",
        "import matplotlib.pyplot as plt\n",
        "from sklearn.model_selection import train_test_split\n",
        "from sklearn import preprocessing \n",
        "from IPython.display import display\n",
        "from sklearn import tree\n",
        "from sklearn.manifold import TSNE\n",
        "from sklearn import svm\n",
        "from sklearn.svm import SVC \n",
        "from sklearn import linear_model\n",
        "from sklearn.externals import joblib \n",
        "from sklearn.metrics import mean_absolute_error\n",
        "from sklearn.metrics import log_loss\n",
        "from sklearn.metrics import confusion_matrix\n",
        "from sklearn.multiclass import OneVsRestClassifier\n",
        "from sklearn.naive_bayes import GaussianNB \n",
        "from sklearn.ensemble import RandomForestClassifier\n",
        "from sklearn.neighbors import KNeighborsClassifier "
      ],
      "execution_count": 22,
      "outputs": [
        {
          "output_type": "stream",
          "text": [
            "/usr/local/lib/python3.6/dist-packages/sklearn/externals/joblib/__init__.py:15: FutureWarning: sklearn.externals.joblib is deprecated in 0.21 and will be removed in 0.23. Please import this functionality directly from joblib, which can be installed with: pip install joblib. If this warning is raised when loading pickled models, you may need to re-serialize those models with scikit-learn 0.21+.\n",
            "  warnings.warn(msg, category=FutureWarning)\n"
          ],
          "name": "stderr"
        }
      ]
    },
    {
      "cell_type": "code",
      "metadata": {
        "id": "VfECh1CCj7BR"
      },
      "source": [
        "final_df = pd.read_pickle('drive/My Drive/caseStudy1.pkl')"
      ],
      "execution_count": 4,
      "outputs": []
    },
    {
      "cell_type": "code",
      "metadata": {
        "id": "dvQldP3ej-JL",
        "outputId": "44c330f0-c9b5-47e3-cabc-df75f32380dc",
        "colab": {
          "base_uri": "https://localhost:8080/",
          "height": 214
        }
      },
      "source": [
        "final_df.head()"
      ],
      "execution_count": 5,
      "outputs": [
        {
          "output_type": "execute_result",
          "data": {
            "text/html": [
              "<div>\n",
              "<style scoped>\n",
              "    .dataframe tbody tr th:only-of-type {\n",
              "        vertical-align: middle;\n",
              "    }\n",
              "\n",
              "    .dataframe tbody tr th {\n",
              "        vertical-align: top;\n",
              "    }\n",
              "\n",
              "    .dataframe thead th {\n",
              "        text-align: right;\n",
              "    }\n",
              "</style>\n",
              "<table border=\"1\" class=\"dataframe\">\n",
              "  <thead>\n",
              "    <tr style=\"text-align: right;\">\n",
              "      <th></th>\n",
              "      <th>SOURCE_SYSTEM_TYPE</th>\n",
              "      <th>SOURCE_SYSTEM</th>\n",
              "      <th>NWCG_REPORTING_AGENCY</th>\n",
              "      <th>FIRE_YEAR</th>\n",
              "      <th>STAT_CAUSE_CODE</th>\n",
              "      <th>FIRE_SIZE_CLASS</th>\n",
              "      <th>LATITUDE</th>\n",
              "      <th>LONGITUDE</th>\n",
              "      <th>OWNER_CODE</th>\n",
              "      <th>STATE</th>\n",
              "      <th>DISCOVERY_MONTH</th>\n",
              "      <th>DISCOVERY_TOD</th>\n",
              "      <th>STATE_PRCNT_FOREST</th>\n",
              "      <th>AVG_TEMP</th>\n",
              "      <th>AVG_PREC</th>\n",
              "    </tr>\n",
              "  </thead>\n",
              "  <tbody>\n",
              "    <tr>\n",
              "      <th>0</th>\n",
              "      <td>0</td>\n",
              "      <td>2</td>\n",
              "      <td>5</td>\n",
              "      <td>2005</td>\n",
              "      <td>9.0</td>\n",
              "      <td>1</td>\n",
              "      <td>40.0</td>\n",
              "      <td>-121.1</td>\n",
              "      <td>5.0</td>\n",
              "      <td>4</td>\n",
              "      <td>2</td>\n",
              "      <td>3</td>\n",
              "      <td>32.71</td>\n",
              "      <td>58.6</td>\n",
              "      <td>22.97</td>\n",
              "    </tr>\n",
              "    <tr>\n",
              "      <th>1</th>\n",
              "      <td>0</td>\n",
              "      <td>2</td>\n",
              "      <td>5</td>\n",
              "      <td>2004</td>\n",
              "      <td>1.0</td>\n",
              "      <td>1</td>\n",
              "      <td>38.9</td>\n",
              "      <td>-120.5</td>\n",
              "      <td>5.0</td>\n",
              "      <td>4</td>\n",
              "      <td>5</td>\n",
              "      <td>2</td>\n",
              "      <td>32.71</td>\n",
              "      <td>58.9</td>\n",
              "      <td>22.97</td>\n",
              "    </tr>\n",
              "    <tr>\n",
              "      <th>2</th>\n",
              "      <td>0</td>\n",
              "      <td>2</td>\n",
              "      <td>5</td>\n",
              "      <td>2004</td>\n",
              "      <td>5.0</td>\n",
              "      <td>1</td>\n",
              "      <td>38.9</td>\n",
              "      <td>-120.8</td>\n",
              "      <td>13.0</td>\n",
              "      <td>4</td>\n",
              "      <td>5</td>\n",
              "      <td>4</td>\n",
              "      <td>32.71</td>\n",
              "      <td>58.9</td>\n",
              "      <td>22.97</td>\n",
              "    </tr>\n",
              "    <tr>\n",
              "      <th>3</th>\n",
              "      <td>0</td>\n",
              "      <td>2</td>\n",
              "      <td>5</td>\n",
              "      <td>2004</td>\n",
              "      <td>1.0</td>\n",
              "      <td>1</td>\n",
              "      <td>38.5</td>\n",
              "      <td>-120.0</td>\n",
              "      <td>5.0</td>\n",
              "      <td>4</td>\n",
              "      <td>6</td>\n",
              "      <td>3</td>\n",
              "      <td>32.71</td>\n",
              "      <td>58.9</td>\n",
              "      <td>22.97</td>\n",
              "    </tr>\n",
              "    <tr>\n",
              "      <th>4</th>\n",
              "      <td>0</td>\n",
              "      <td>2</td>\n",
              "      <td>5</td>\n",
              "      <td>2004</td>\n",
              "      <td>1.0</td>\n",
              "      <td>1</td>\n",
              "      <td>38.5</td>\n",
              "      <td>-120.0</td>\n",
              "      <td>5.0</td>\n",
              "      <td>4</td>\n",
              "      <td>6</td>\n",
              "      <td>3</td>\n",
              "      <td>32.71</td>\n",
              "      <td>58.9</td>\n",
              "      <td>22.97</td>\n",
              "    </tr>\n",
              "  </tbody>\n",
              "</table>\n",
              "</div>"
            ],
            "text/plain": [
              "   SOURCE_SYSTEM_TYPE  SOURCE_SYSTEM  ...  AVG_TEMP  AVG_PREC\n",
              "0                   0              2  ...      58.6     22.97\n",
              "1                   0              2  ...      58.9     22.97\n",
              "2                   0              2  ...      58.9     22.97\n",
              "3                   0              2  ...      58.9     22.97\n",
              "4                   0              2  ...      58.9     22.97\n",
              "\n",
              "[5 rows x 15 columns]"
            ]
          },
          "metadata": {
            "tags": []
          },
          "execution_count": 5
        }
      ]
    },
    {
      "cell_type": "code",
      "metadata": {
        "id": "bSEF0vdEj_Kn",
        "outputId": "3af3823a-050c-488d-b1b5-9c34df25c98a",
        "colab": {
          "base_uri": "https://localhost:8080/"
        }
      },
      "source": [
        "final_df.info()"
      ],
      "execution_count": 6,
      "outputs": [
        {
          "output_type": "stream",
          "text": [
            "<class 'pandas.core.frame.DataFrame'>\n",
            "RangeIndex: 1880465 entries, 0 to 1880464\n",
            "Data columns (total 15 columns):\n",
            " #   Column                 Dtype  \n",
            "---  ------                 -----  \n",
            " 0   SOURCE_SYSTEM_TYPE     int64  \n",
            " 1   SOURCE_SYSTEM          int64  \n",
            " 2   NWCG_REPORTING_AGENCY  int64  \n",
            " 3   FIRE_YEAR              int64  \n",
            " 4   STAT_CAUSE_CODE        float64\n",
            " 5   FIRE_SIZE_CLASS        int64  \n",
            " 6   LATITUDE               float64\n",
            " 7   LONGITUDE              float64\n",
            " 8   OWNER_CODE             float64\n",
            " 9   STATE                  int64  \n",
            " 10  DISCOVERY_MONTH        int64  \n",
            " 11  DISCOVERY_TOD          int64  \n",
            " 12  STATE_PRCNT_FOREST     float64\n",
            " 13  AVG_TEMP               float64\n",
            " 14  AVG_PREC               float64\n",
            "dtypes: float64(7), int64(8)\n",
            "memory usage: 215.2 MB\n"
          ],
          "name": "stdout"
        }
      ]
    },
    {
      "cell_type": "code",
      "metadata": {
        "id": "ATTE73SOkDqn"
      },
      "source": [
        "#Breaking down data into train and test \n",
        "y = final_df['FIRE_SIZE_CLASS'].values\n",
        "x = final_df.drop(['FIRE_SIZE_CLASS'], axis = 1)\n",
        "x_train, x_test, y_train, y_test = train_test_split(x, y, test_size=0.33, stratify=y)"
      ],
      "execution_count": 7,
      "outputs": []
    },
    {
      "cell_type": "markdown",
      "metadata": {
        "id": "HsI0KspBkLw4"
      },
      "source": [
        "Since the features we are dealing with are geospatial features, therefore we cannot just normalize/scale the features (such as latitude, longitude)\n",
        "So we cannot use linear models which require scaled features as input to the model.\n",
        "\n",
        "Reference: https://heartbeat.fritz.ai/working-with-geospatial-data-in-machine-learning-ad4097c7228d\n",
        "\n",
        "Taking reference from above URL, Tree based/grouping models can be a good solution to this problem as they will preserve the original values of the features and would provide the output without any modifications in input model.\n",
        "\n",
        "So starting with the Simplest Model that works on the concept of neighborhood i.e. KNN.\n",
        "We are using the models here without any hyperparameter tuning just to understand which model works better as it is.\n"
      ]
    },
    {
      "cell_type": "code",
      "metadata": {
        "id": "d9sJ-ZMSnzaY"
      },
      "source": [
        "#Funstion for MAPE error to be used further\n",
        "def mean_absolute_percentage_error(y_true, y_pred): \n",
        "    y_true, y_pred = np.array(y_true), np.array(y_pred)\n",
        "    return np.mean(np.abs((y_true - y_pred) / y_true)) * 100"
      ],
      "execution_count": 9,
      "outputs": []
    },
    {
      "cell_type": "code",
      "metadata": {
        "id": "EaErLKQ-kIhj"
      },
      "source": [
        "#Randomly taking nearest neighbors to be 5 here\n",
        "knnModel = KNeighborsClassifier(n_neighbors = 5).fit(x_train, y_train) "
      ],
      "execution_count": 10,
      "outputs": []
    },
    {
      "cell_type": "code",
      "metadata": {
        "id": "82a1woQIldwz",
        "outputId": "54150a31-2f0c-425c-bc83-50f8162c26fe",
        "colab": {
          "base_uri": "https://localhost:8080/"
        }
      },
      "source": [
        "#Using the model for predicting values of Test data\n",
        "knn_predictions = knnModel.predict(x_test)  \n",
        "\n",
        "#Fining accuracy of the Model\n",
        "accuracy_train = knnModel.score(x_train, y_train) \n",
        "accuracy_test = knnModel.score(x_test, y_test) \n",
        "\n",
        "print('Train Data Accuracy is :',accuracy_train)\n",
        "print('Test Data Accuracy is :',accuracy_test)\n",
        "\n",
        "#Finding MAE\n",
        "knn_MAE = mean_absolute_error(y_test, knn_predictions)\n",
        "print('MAE value is: ', knn_MAE)\n",
        "\n",
        "#Finding MAPE\n",
        "knn_MAPE = mean_absolute_percentage_error(y_test, knn_predictions)\n",
        "print('MAPE value is: ', knn_MAPE)\n"
      ],
      "execution_count": 12,
      "outputs": [
        {
          "output_type": "stream",
          "text": [
            "Train Data Accuracy is : 0.7154648225152411\n",
            "Test Data Accuracy is : 0.6048933694730837\n",
            "MAE value is:  0.4705086100484406\n",
            "MAPE value is:  25.54309958367461\n"
          ],
          "name": "stdout"
        }
      ]
    },
    {
      "cell_type": "code",
      "metadata": {
        "id": "UpeT3Gh1vgRI"
      },
      "source": [
        "#Now applying  Gaussian Naive Bayes as it does not require any normalization too\n",
        "gnb = GaussianNB().fit(x_train, y_train) "
      ],
      "execution_count": 13,
      "outputs": []
    },
    {
      "cell_type": "code",
      "metadata": {
        "id": "xSL6xJNYBZ6R",
        "outputId": "c7cd10c1-35b1-4981-c8d2-84705cc0e7f8",
        "colab": {
          "base_uri": "https://localhost:8080/"
        }
      },
      "source": [
        "gnb_predictions = gnb.predict(x_test) \n",
        "# accuracy on X_test \n",
        "accuracy_train = gnb.score(x_train, y_train) \n",
        "accuracy_test = gnb.score(x_test, y_test) \n",
        "\n",
        "print('Train Data Accuracy is :',accuracy_train)\n",
        "print('Test Data Accuracy is :',accuracy_test)\n",
        "\n",
        "#Finding MAE\n",
        "gnb_MAE = mean_absolute_error(y_test, gnb_predictions)\n",
        "print('MAE value is: ', gnb_MAE)\n",
        "\n",
        "#Finding MAPE\n",
        "gnb_MAPE = mean_absolute_percentage_error(y_test, gnb_predictions)\n",
        "print('MAPE value is: ', gnb_MAPE)"
      ],
      "execution_count": 14,
      "outputs": [
        {
          "output_type": "stream",
          "text": [
            "Train Data Accuracy is : 0.5313295939157607\n",
            "Test Data Accuracy is : 0.5312720569039923\n",
            "MAE value is:  0.8070433838151071\n",
            "MAPE value is:  53.491671497219784\n"
          ],
          "name": "stdout"
        }
      ]
    },
    {
      "cell_type": "markdown",
      "metadata": {
        "id": "jhUfCXTlEShR"
      },
      "source": [
        "KNN is performing better than Naive Bayes, \n",
        "Now trying some tree based algorithms too.\n"
      ]
    },
    {
      "cell_type": "code",
      "metadata": {
        "id": "DI86vQnzCmmI"
      },
      "source": [
        "decisionTreeModel = tree.DecisionTreeClassifier().fit(x_train, y_train)"
      ],
      "execution_count": 15,
      "outputs": []
    },
    {
      "cell_type": "code",
      "metadata": {
        "id": "4MCcsvZjErn2",
        "outputId": "5b4e50f7-72b4-4190-b168-a9605ed91db3",
        "colab": {
          "base_uri": "https://localhost:8080/"
        }
      },
      "source": [
        "decisionTreeModel_predictions = decisionTreeModel.predict(x_test) \n",
        "# accuracy on X_test \n",
        "accuracy_train = decisionTreeModel.score(x_train, y_train) \n",
        "accuracy_test = decisionTreeModel.score(x_test, y_test) \n",
        "\n",
        "print('Train Data Accuracy is :',accuracy_train)\n",
        "print('Test Data Accuracy is :',accuracy_test)\n",
        "\n",
        "#Finding MAE\n",
        "decisionTreeModel_MAE = mean_absolute_error(y_test, decisionTreeModel_predictions)\n",
        "print('MAE value is: ', decisionTreeModel_MAE)\n",
        "\n",
        "#Finding MAPE\n",
        "decisionTreeModel_MAPE = mean_absolute_percentage_error(y_test, decisionTreeModel_predictions)\n",
        "print('MAPE value is: ', decisionTreeModel_MAPE)"
      ],
      "execution_count": 16,
      "outputs": [
        {
          "output_type": "stream",
          "text": [
            "Train Data Accuracy is : 0.9531022429362074\n",
            "Test Data Accuracy is : 0.5552764143007699\n",
            "MAE value is:  0.5531234993247969\n",
            "MAPE value is:  32.28023707541204\n"
          ],
          "name": "stdout"
        }
      ]
    },
    {
      "cell_type": "markdown",
      "metadata": {
        "id": "1j7xFzKsFFZX"
      },
      "source": [
        "Even though the MAE and MAPE values are greater than KNN model, But there is a huge difference in Train and Test acuracy, so the model is probably overfitting into the train data and the errors can therefore be improved by right hyperparameter tuning."
      ]
    },
    {
      "cell_type": "code",
      "metadata": {
        "id": "FKaHYcfmFZDT"
      },
      "source": [
        "#Second tree based approach: Random Forest\n",
        "rf_clf = RandomForestClassifier().fit(x_train, y_train) \n"
      ],
      "execution_count": 17,
      "outputs": []
    },
    {
      "cell_type": "code",
      "metadata": {
        "id": "xJ67EP3TObY7",
        "outputId": "7df978e8-c55a-48e6-c035-295d831dae6d",
        "colab": {
          "base_uri": "https://localhost:8080/"
        }
      },
      "source": [
        "#Since the model training consumes a lot of RAM. Therefore storing it in a .pkl file for further use.\n",
        "joblib.dump(rf_clf, 'drive/My Drive/randomForestModel.pkl')"
      ],
      "execution_count": 23,
      "outputs": [
        {
          "output_type": "execute_result",
          "data": {
            "text/plain": [
              "['drive/My Drive/randomForestModel.pkl']"
            ]
          },
          "metadata": {
            "tags": []
          },
          "execution_count": 23
        }
      ]
    },
    {
      "cell_type": "code",
      "metadata": {
        "id": "9_blQSoeHnrg",
        "outputId": "d5c5631f-e804-410d-91d1-0c6a735126df",
        "colab": {
          "base_uri": "https://localhost:8080/"
        }
      },
      "source": [
        "rf_predictions = rf_clf.predict(x_test) \n",
        "# accuracy on X_test \n",
        "accuracy_train = rf_clf.score(x_train, y_train) \n",
        "accuracy_test = rf_clf.score(x_test, y_test) \n",
        "\n",
        "print('Train Data Accuracy is :',accuracy_train)\n",
        "print('Test Data Accuracy is :',accuracy_test)\n",
        "\n",
        "#Finding MAE\n",
        "rf_MAE = mean_absolute_error(y_test, rf_predictions)\n",
        "print('MAE value is: ', rf_MAE)\n",
        "\n",
        "#Finding MAPE\n",
        "rf_MAPE = mean_absolute_percentage_error(y_test, rf_predictions)\n",
        "print('MAPE value is: ', rf_MAPE)"
      ],
      "execution_count": 20,
      "outputs": [
        {
          "output_type": "stream",
          "text": [
            "Train Data Accuracy is : 0.9530895436264942\n",
            "Test Data Accuracy is : 0.6186053107384691\n",
            "MAE value is:  0.45348350022721634\n",
            "MAPE value is:  25.295920296717977\n"
          ],
          "name": "stdout"
        }
      ]
    },
    {
      "cell_type": "markdown",
      "metadata": {
        "id": "-SWefiHlMHte"
      },
      "source": [
        "The Difference between train and test data accuracy is very high, therefore it is an over fitting situation which we can overcome by hyper parameter tuning. \n",
        "The errors would further decrease when we would make class_weights to be 'balanced' as our data is highly imbalanced.\n",
        "\n",
        "Therefore, we can use random forest as our final model and perform hyper parameter tuning on it to reduce the results further."
      ]
    },
    {
      "cell_type": "markdown",
      "metadata": {
        "id": "-KjkE0wIM-xD"
      },
      "source": [
        "Even after overfitting, the MAE and MAPE values are the least with Random Forest and also if we compare the results with the reference research paper (Result image attached), the Error values are already much lesser than it.\n",
        "This is because we have added additional weather features using feature engineering which improved our results."
      ]
    },
    {
      "cell_type": "markdown",
      "metadata": {
        "id": "I7BateoqN3Xe"
      },
      "source": [
        "![comparisonModel.png](data:image/png;base64,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)"
      ]
    },
    {
      "cell_type": "markdown",
      "metadata": {
        "id": "G3cB5K2oWS9-"
      },
      "source": [
        "Therefore we can use Random Forest and KNN further and do hyper parameter tuning. Then as per the results we can finalize the model for this project.\n",
        " \n",
        "\n"
      ]
    },
    {
      "cell_type": "code",
      "metadata": {
        "id": "NAM3YStSYdsc"
      },
      "source": [
        ""
      ],
      "execution_count": null,
      "outputs": []
    }
  ]
}